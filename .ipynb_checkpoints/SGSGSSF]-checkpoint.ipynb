{
 "cells": [
  {
   "cell_type": "code",
   "execution_count": null,
   "id": "7e3debe7-6f64-4cb5-beff-8128440e6b99",
   "metadata": {},
   "outputs": [],
   "source": [
    "TG7YVHYGVUBHVY\\\n",
    "]]\n"
   ]
  }
 ],
 "metadata": {
  "kernelspec": {
   "display_name": "Python 3 (ipykernel)",
   "language": "python",
   "name": "python3"
  },
  "language_info": {
   "codemirror_mode": {
    "name": "ipython",
    "version": 3
   },
   "file_extension": ".py",
   "mimetype": "text/x-python",
   "name": "python",
   "nbconvert_exporter": "python",
   "pygments_lexer": "ipython3",
   "version": "3.11.5"
  }
 },
 "nbformat": 4,
 "nbformat_minor": 5
}
